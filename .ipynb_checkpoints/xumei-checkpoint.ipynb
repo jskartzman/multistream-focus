{
 "cells": [
  {
   "cell_type": "code",
   "execution_count": 11,
   "id": "3a850d6d-27a5-46ce-9e3b-e806610c51a9",
   "metadata": {},
   "outputs": [],
   "source": [
    "import numpy as np\n",
    "\n",
    "sims = 50\n",
    "nu = 0\n",
    "T = int(1e6)\n",
    "mu1 = 1\n",
    "M = 10\n",
    "thresholds = [1e3,2e3,3e3,4e3,5e3]"
   ]
  },
  {
   "cell_type": "code",
   "execution_count": 27,
   "id": "17388ac2-bec2-43e1-997f-d3d316f4abf5",
   "metadata": {},
   "outputs": [],
   "source": [
    "def xumei(data, threshold, lower):\n",
    "    W = np.zeros(data.shape[0])\n",
    "    statistic = max(W)\n",
    "    stream = -1\n",
    "    t = -1\n",
    "    while statistic < threshold:\n",
    "        stream = (stream + 1)%M\n",
    "        m_t = 0\n",
    "        sum_t = 0\n",
    "        while W[stream]>=0 and W[stream]<threshold:\n",
    "            t = t+1\n",
    "            x_t = data[stream,t]\n",
    "            if m_t == 0:\n",
    "                mean_estimate = lower\n",
    "            else:\n",
    "                mean_estimate = max((sum_t/m_t,lower))\n",
    "            W[stream] = max((W[stream],0))+mean_estimate*x_t-(mean_estimate**2)/2\n",
    "            for i in range(data.shape[0]):\n",
    "                if i != stream:\n",
    "                    W[i] = max((W[i],0))\n",
    "            m_t = m_t + 1\n",
    "            sum_t = sum_t + x_t\n",
    "        statistic = max(W)\n",
    "    return t"
   ]
  },
  {
   "cell_type": "code",
   "execution_count": 114,
   "id": "ffbd0f04-5066-497d-8fe8-d9fb64bbe3a2",
   "metadata": {},
   "outputs": [
    {
     "name": "stdout",
     "output_type": "stream",
     "text": [
      "75883.0\n"
     ]
    }
   ],
   "source": [
    "import numpy as np\n",
    "import focus_implementation as focus\n",
    "\n",
    "data = focus.generate_data(M, T, int(1e5), mu1)\n",
    "data[[0, -1], :] = data[[-1, 0], :]\n",
    "detection_delay = 0\n",
    "sims = 50\n",
    "sim = 0\n",
    "while sim<sims:\n",
    "    delay = xumei(data,1000,2)-1e5\n",
    "    if delay > 0:\n",
    "        sim = sim+1\n",
    "        detection_delay = detection_delay + delay\n",
    "print(detection_delay/50)"
   ]
  },
  {
   "cell_type": "code",
   "execution_count": null,
   "id": "53134864-5a07-40bd-bfa5-fe26b3137164",
   "metadata": {},
   "outputs": [],
   "source": [
    "import numpy as np\n",
    "import focus_implementation as focus\n",
    "\n",
    "edd_means = np.zeros((len(nus), len(thresholds)))\n",
    "\n",
    "for idx, nu in enumerate(nus):\n",
    "    for idx2, threshold in enumerate(thresholds):\n",
    "        delays = []\n",
    "        sim = 0\n",
    "        while sim<sims:\n",
    "            np.random.seed()\n",
    "            data = focus.generate_data(M, T, nu, mu1)\n",
    "            detection_time, _ = focus.focus_decay(data, threshold)\n",
    "            if detection_time > nu:\n",
    "                sim = sim+1\n",
    "                delays.append(detection_time - nu)\n",
    "        # This is just printing off results\n",
    "        print(f\"changepoint: {nu}\")\n",
    "        print(f\"threshold: {threshold}\")\n",
    "        lai_bound = threshold * 2 / (mu1 ** 2)\n",
    "        print(f\"asymptotic bound: {lai_bound}\")\n",
    "        edd_estimate = sum(delays) / sims\n",
    "        print(f\"edd: {edd_estimate}\")\n",
    "        print(f\"asymptotic bound ratio: {edd_estimate / lai_bound}\")\n",
    "        edd_means[idx][idx2] = edd_estimate\n",
    "        print(\"--------------------------------------------------\")"
   ]
  }
 ],
 "metadata": {
  "kernelspec": {
   "display_name": "Python 3 (ipykernel)",
   "language": "python",
   "name": "python3"
  },
  "language_info": {
   "codemirror_mode": {
    "name": "ipython",
    "version": 3
   },
   "file_extension": ".py",
   "mimetype": "text/x-python",
   "name": "python",
   "nbconvert_exporter": "python",
   "pygments_lexer": "ipython3",
   "version": "3.12.8"
  }
 },
 "nbformat": 4,
 "nbformat_minor": 5
}
