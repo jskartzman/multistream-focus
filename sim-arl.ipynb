{
 "cells": [
  {
   "cell_type": "code",
   "execution_count": 6,
   "id": "87aff1dc-2f5a-4e97-85d9-1f8897c6845f",
   "metadata": {},
   "outputs": [],
   "source": [
    "import numpy as np\n",
    "\n",
    "sims = 50\n",
    "Ms = [1,3,5,10]\n",
    "T = int(2e5)\n",
    "thresholds = [np.log(1e3),np.log(2e3),np.log(3e3),np.log(4e3),np.log(5e3)]"
   ]
  },
  {
   "cell_type": "code",
   "execution_count": 7,
   "id": "5da1a29b-daa1-4f4a-9e19-6c4e6298a8e2",
   "metadata": {},
   "outputs": [
    {
     "name": "stdout",
     "output_type": "stream",
     "text": [
      "M: 1\n",
      "threshold: 6.907755278982137\n",
      "arl: 1314.44\n",
      "M: 1\n",
      "threshold: 7.600902459542082\n",
      "arl: 1740.52\n",
      "M: 1\n",
      "threshold: 8.006367567650246\n",
      "arl: 2792.5\n",
      "M: 1\n",
      "threshold: 8.294049640102028\n",
      "arl: 3445.44\n",
      "M: 1\n",
      "threshold: 8.517193191416238\n",
      "arl: 6051.18\n",
      "M: 3\n",
      "threshold: 6.907755278982137\n",
      "arl: 1061.9\n",
      "M: 3\n",
      "threshold: 7.600902459542082\n",
      "arl: 1846.5\n",
      "M: 3\n",
      "threshold: 8.006367567650246\n",
      "arl: 3094.86\n",
      "M: 3\n",
      "threshold: 8.294049640102028\n",
      "arl: 2526.18\n",
      "M: 3\n",
      "threshold: 8.517193191416238\n",
      "arl: 5485.32\n",
      "M: 5\n",
      "threshold: 6.907755278982137\n",
      "arl: 1131.8\n",
      "M: 5\n",
      "threshold: 7.600902459542082\n",
      "arl: 1580.92\n",
      "M: 5\n",
      "threshold: 8.006367567650246\n",
      "arl: 3184.0\n",
      "M: 5\n",
      "threshold: 8.294049640102028\n",
      "arl: 4161.18\n",
      "M: 5\n",
      "threshold: 8.517193191416238\n",
      "arl: 4771.94\n",
      "M: 10\n",
      "threshold: 6.907755278982137\n",
      "arl: 976.24\n",
      "M: 10\n",
      "threshold: 7.600902459542082\n",
      "arl: 2269.86\n",
      "M: 10\n",
      "threshold: 8.006367567650246\n",
      "arl: 2810.96\n",
      "M: 10\n",
      "threshold: 8.294049640102028\n",
      "arl: 3405.4\n",
      "M: 10\n",
      "threshold: 8.517193191416238\n",
      "arl: 4031.5\n"
     ]
    }
   ],
   "source": [
    "# Non-concurrent approach\n",
    "import numpy as np\n",
    "import focus_implementation as focus\n",
    "\n",
    "def run_single_sim(M, T, nu, mu1, threshold):\n",
    "    \n",
    "    return detection_time\n",
    "\n",
    "arl_means = np.zeros((len(Ms), len(thresholds)))\n",
    "\n",
    "for idx, M in enumerate(Ms):\n",
    "    for idx2, threshold in enumerate(thresholds):\n",
    "        arls = []\n",
    "        for sim in range(sims):\n",
    "            np.random.seed()\n",
    "            data = focus.generate_data(M, T, 0, 0)\n",
    "            detection_time, _ = focus.focus_decay(data, threshold)\n",
    "            arls.append(detection_time)\n",
    "        # This is just printing off results\n",
    "        print(f\"M: {M}\")\n",
    "        print(f\"threshold: {threshold}\")\n",
    "        arl_estimate = sum(arls) / 50\n",
    "        print(f\"arl: {arl_estimate}\")\n",
    "        arl_means[idx][idx2] = arl_estimate"
   ]
  },
  {
   "cell_type": "code",
   "execution_count": null,
   "id": "6b384d69-20b7-4549-a67a-79973d1b8f67",
   "metadata": {},
   "outputs": [],
   "source": []
  }
 ],
 "metadata": {
  "kernelspec": {
   "display_name": "Python 3 (ipykernel)",
   "language": "python",
   "name": "python3"
  },
  "language_info": {
   "codemirror_mode": {
    "name": "ipython",
    "version": 3
   },
   "file_extension": ".py",
   "mimetype": "text/x-python",
   "name": "python",
   "nbconvert_exporter": "python",
   "pygments_lexer": "ipython3",
   "version": "3.12.8"
  }
 },
 "nbformat": 4,
 "nbformat_minor": 5
}
