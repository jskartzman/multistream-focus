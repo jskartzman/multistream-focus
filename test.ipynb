{
 "cells": [
  {
   "cell_type": "code",
   "execution_count": 3,
   "id": "882c8fcb-df50-495b-a21b-9e4e05050877",
   "metadata": {},
   "outputs": [],
   "source": [
    "import focus_implementation as focus\n",
    "import numpy as np\n",
    "\n",
    "data = focus.generate_data(1, int(1e6), 100, -1)"
   ]
  },
  {
   "cell_type": "code",
   "execution_count": 5,
   "id": "99a51793-7fad-4d5b-a45e-702c1e135c71",
   "metadata": {},
   "outputs": [
    {
     "data": {
      "text/plain": [
       "(284, np.float64(100.17033510033988))"
      ]
     },
     "execution_count": 5,
     "metadata": {},
     "output_type": "execute_result"
    }
   ],
   "source": [
    "focus.focus_decay(data,100)"
   ]
  },
  {
   "cell_type": "code",
   "execution_count": 4,
   "id": "5754b604-d825-492e-bcc4-67e1d5b2a17d",
   "metadata": {
    "scrolled": true
   },
   "outputs": [
    {
     "name": "stdout",
     "output_type": "stream",
     "text": [
      "100.17033510033993\n",
      "284\n"
     ]
    }
   ],
   "source": [
    "for i in range(1,int(1e6)+1):\n",
    "    obs = data[0,:i]\n",
    "    glr = np.max([np.sum(obs[k:])**2/(2*(i-k)) for k in range(i)])\n",
    "    if glr > 100:\n",
    "        print(glr)\n",
    "        print(i)\n",
    "        break"
   ]
  },
  {
   "cell_type": "code",
   "execution_count": null,
   "id": "60425870-2429-4885-ba42-fd96079707ed",
   "metadata": {},
   "outputs": [],
   "source": []
  }
 ],
 "metadata": {
  "kernelspec": {
   "display_name": "Python 3 (ipykernel)",
   "language": "python",
   "name": "python3"
  },
  "language_info": {
   "codemirror_mode": {
    "name": "ipython",
    "version": 3
   },
   "file_extension": ".py",
   "mimetype": "text/x-python",
   "name": "python",
   "nbconvert_exporter": "python",
   "pygments_lexer": "ipython3",
   "version": "3.12.8"
  }
 },
 "nbformat": 4,
 "nbformat_minor": 5
}
