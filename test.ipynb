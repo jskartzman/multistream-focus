{
 "cells": [
  {
   "cell_type": "code",
   "execution_count": 5,
   "id": "882c8fcb-df50-495b-a21b-9e4e05050877",
   "metadata": {},
   "outputs": [],
   "source": [
    "import focus_implementation as focus\n",
    "import numpy as np\n",
    "\n",
    "data = focus.generate_data(2, int(1e6), 100, 0)"
   ]
  },
  {
   "cell_type": "code",
   "execution_count": 5,
   "id": "99a51793-7fad-4d5b-a45e-702c1e135c71",
   "metadata": {},
   "outputs": [
    {
     "data": {
      "text/plain": [
       "(284, np.float64(100.17033510033988))"
      ]
     },
     "execution_count": 5,
     "metadata": {},
     "output_type": "execute_result"
    }
   ],
   "source": [
    "focus.focus_decay(data,100)"
   ]
  },
  {
   "cell_type": "code",
   "execution_count": 4,
   "id": "5754b604-d825-492e-bcc4-67e1d5b2a17d",
   "metadata": {
    "scrolled": true
   },
   "outputs": [
    {
     "name": "stdout",
     "output_type": "stream",
     "text": [
      "100.17033510033993\n",
      "284\n"
     ]
    }
   ],
   "source": [
    "for i in range(1,int(1e6)+1):\n",
    "    obs = data[0,:i]\n",
    "    glr = np.max([np.sum(obs[k:])**2/(2*(i-k)) for k in range(i)])\n",
    "    if glr > 100:\n",
    "        print(glr)\n",
    "        print(i)\n",
    "        break"
   ]
  },
  {
   "cell_type": "code",
   "execution_count": 9,
   "id": "31d68073-cec9-4538-ac28-1e73f352f739",
   "metadata": {},
   "outputs": [
    {
     "data": {
      "text/plain": [
       "np.float64(2.339671393939412e-05)"
      ]
     },
     "execution_count": 9,
     "metadata": {},
     "output_type": "execute_result"
    }
   ],
   "source": [
    "np.mean(data[1])"
   ]
  },
  {
   "cell_type": "code",
   "execution_count": 10,
   "id": "cb2eb5c5-9a64-4605-b248-38aef801341a",
   "metadata": {},
   "outputs": [],
   "source": [
    "def glr(obs):\n",
    "    return np.max([np.sum(obs[k:])**2/(2*(i-k)) for k in range(i)])"
   ]
  },
  {
   "cell_type": "code",
   "execution_count": 71,
   "id": "8434ec9d-facd-4aa1-ad28-844264985952",
   "metadata": {},
   "outputs": [],
   "source": [
    "def test_arl_prob(M,t_0,b):\n",
    "    data = focus.generate_data(M+1, int(5e4), 0, 0)\n",
    "    single_data = data[0]\n",
    "    multi_data = data[1:M+1]\n",
    "    stopping_multi, _ = focus.focus_decay(multi_data,b)\n",
    "    stopping_single, _ = focus.single_stream(single_data,b)\n",
    "    return stopping_single>M*t_0, stopping_multi>t_0"
   ]
  },
  {
   "cell_type": "code",
   "execution_count": 72,
   "id": "4989edd0-269d-49b5-bf54-8b1aaeea6fae",
   "metadata": {},
   "outputs": [
    {
     "name": "stdout",
     "output_type": "stream",
     "text": [
      "0.508\n",
      "0.24\n"
     ]
    }
   ],
   "source": [
    "sims = 500\n",
    "success_single = 0\n",
    "success_multi = 0\n",
    "for i in range(sims):\n",
    "    single, multi = test_arl_prob(2,2000,np.log(3000))\n",
    "    success_single = single+success_single\n",
    "    success_multi = multi+success_multi\n",
    "print(success_multi/sims)\n",
    "print(success_single/sims)"
   ]
  },
  {
   "cell_type": "code",
   "execution_count": null,
   "id": "aaefe293-adbd-4afb-9599-8d5b5d75f296",
   "metadata": {},
   "outputs": [],
   "source": []
  }
 ],
 "metadata": {
  "kernelspec": {
   "display_name": "Python 3 (ipykernel)",
   "language": "python",
   "name": "python3"
  },
  "language_info": {
   "codemirror_mode": {
    "name": "ipython",
    "version": 3
   },
   "file_extension": ".py",
   "mimetype": "text/x-python",
   "name": "python",
   "nbconvert_exporter": "python",
   "pygments_lexer": "ipython3",
   "version": "3.12.8"
  }
 },
 "nbformat": 4,
 "nbformat_minor": 5
}
